{
 "cells": [
  {
   "cell_type": "markdown",
   "metadata": {},
   "source": [
    "# Jupyter Notebook Summary"
   ]
  },
  {
   "cell_type": "markdown",
   "metadata": {},
   "source": [
    "A **Jupyter Notebook** can run code, in our case **python**, but it is not limited to python. \n",
    "It can also display rich text, images and video. [Markdown](https://en.wikipedia.org/wiki/Markdown) is the language used to display text.\n",
    "\n",
    "This cell is a markdown cell and here is an image.\n",
    "![][some-id]\n",
    "\n",
    "[some-id]: https://www.python.org/static/community_logos/python-logo-master-v3-TM.png \"Python Logo\"\n"
   ]
  },
  {
   "cell_type": "code",
   "execution_count": 1,
   "metadata": {},
   "outputs": [
    {
     "name": "stdout",
     "output_type": "stream",
     "text": [
      "Hello world!\n"
     ]
    }
   ],
   "source": [
    "#This cell is a code cell. It runs python code e.g\n",
    "\n",
    "print(\"Hello world!\") #To run this cell press shift + enter (command + enter for mac)"
   ]
  },
  {
   "cell_type": "markdown",
   "metadata": {},
   "source": [
    "A **Jupyter Notebook** has two modes:-\n",
    "1. Edit Mode\n",
    "2. Command Mode\n",
    "\n",
    "**Edit Mode** Allows you to edit a particular cell and **Command Mode** gives you control over the whole notebook.  \n",
    "It is easy to tell which mode you are using, **Edit Mode** is indicated by a green border around a particular cell. In **Command Mode** a blue line is visible to the right of the cell. In **Edit Mode** there is also a pencil icon displayed at the top right of the notebook.  You can switch into **Edit Mode** by clicking on a cell with your cursor and into **Command Mode** by pressing the esc key."
   ]
  },
  {
   "cell_type": "markdown",
   "metadata": {},
   "source": [
    "## Shortcuts##\n",
    "There are many shortcuts in Jupyter, the most important to remember is:-  \n",
    "**Ctrl (Cmd on Mac) + shift + P**  \n",
    "This gives the command palette which lists all available shortcuts."
   ]
  },
  {
   "cell_type": "markdown",
   "metadata": {},
   "source": [
    "If ever you need help, just type **help()**"
   ]
  },
  {
   "cell_type": "code",
   "execution_count": 2,
   "metadata": {},
   "outputs": [
    {
     "name": "stdout",
     "output_type": "stream",
     "text": [
      "\n",
      "Welcome to Python 3.7's help utility!\n",
      "\n",
      "If this is your first time using Python, you should definitely check out\n",
      "the tutorial on the Internet at https://docs.python.org/3.7/tutorial/.\n",
      "\n",
      "Enter the name of any module, keyword, or topic to get help on writing\n",
      "Python programs and using Python modules.  To quit this help utility and\n",
      "return to the interpreter, just type \"quit\".\n",
      "\n",
      "To get a list of available modules, keywords, symbols, or topics, type\n",
      "\"modules\", \"keywords\", \"symbols\", or \"topics\".  Each module also comes\n",
      "with a one-line summary of what it does; to list the modules whose name\n",
      "or summary contain a given string such as \"spam\", type \"modules spam\".\n",
      "\n",
      "help> keywords\n",
      "\n",
      "Here is a list of the Python keywords.  Enter any keyword to get more help.\n",
      "\n",
      "False               class               from                or\n",
      "None                continue            global              pass\n",
      "True                def                 if                  raise\n",
      "and                 del                 import              return\n",
      "as                  elif                in                  try\n",
      "assert              else                is                  while\n",
      "async               except              lambda              with\n",
      "await               finally             nonlocal            yield\n",
      "break               for                 not                 \n",
      "\n",
      "\n",
      "You are now leaving help and returning to the Python interpreter.\n",
      "If you want to ask for help on a particular object directly from the\n",
      "interpreter, you can type \"help(object)\".  Executing \"help('string')\"\n",
      "has the same effect as typing a particular string at the help> prompt.\n"
     ]
    }
   ],
   "source": [
    "#Like this\n",
    "help()"
   ]
  },
  {
   "cell_type": "code",
   "execution_count": 4,
   "metadata": {},
   "outputs": [
    {
     "name": "stdout",
     "output_type": "stream",
     "text": [
      " Volume in drive E is Samsung_T5\n",
      " Volume Serial Number is 9028-DA86\n",
      "\n",
      " Directory of E:\\Pandas_Course_Active\n",
      "\n",
      "18/10/2020  11:57    <DIR>          .\n",
      "18/10/2020  11:57    <DIR>          ..\n",
      "18/10/2020  12:10    <DIR>          .ipynb_checkpoints\n",
      "11/11/2020  14:41             5,294 01-Jupyter Notebook Summary.ipynb\n",
      "27/10/2020  11:53             7,681 02-Python Calculator&Variables.ipynb\n",
      "27/10/2020  12:20            13,606 03-Python Strings.ipynb\n",
      "27/10/2020  15:07            21,930 04-Lists & Logic.ipynb\n",
      "27/10/2020  16:26             6,863 05-Loops.ipynb\n",
      "27/10/2020  16:49             5,616 06-Dictionaries.ipynb\n",
      "28/10/2020  10:19             9,040 07-Tuples and sets.ipynb\n",
      "28/10/2020  10:35            78,097 08-Modules.ipynb\n",
      "28/10/2020  12:37             9,409 09-Functions.ipynb\n",
      "28/10/2020  12:55            15,696 10-Errors and Exceptions.ipynb\n",
      "28/10/2020  14:01             2,750 11-List Comprehensions.ipynb\n",
      "28/10/2020  14:28            21,150 12-Numpy.ipynb\n",
      "19/10/2020  11:57    <DIR>          data\n",
      "28/10/2020  16:07           128,896 13-Pandas-1.ipynb\n",
      "28/10/2020  17:53           215,642 14-Pandas-2.ipynb\n",
      "29/10/2020  11:48           435,555 15-Pandas-3.ipynb\n",
      "29/10/2020  12:43           178,105 16-Pandas-4.ipynb\n",
      "29/10/2020  15:42           452,894 17-Pandas-5.ipynb\n",
      "29/10/2020  16:03           711,655 18-Matplotlib.ipynb\n",
      "25/10/2020  11:30           124,383 mat_fig.jpg\n",
      "25/10/2020  11:56            14,225 HistoricalQuotes.csv\n",
      "29/10/2020  16:03            55,018 msft_viz.png\n",
      "26/10/2020  18:25               555 Untitled.ipynb\n",
      "27/10/2020  23:36               116 debug.log\n",
      "              23 File(s)      2,514,176 bytes\n",
      "               4 Dir(s)  144,782,131,200 bytes free\n"
     ]
    }
   ],
   "source": [
    "!dir"
   ]
  },
  {
   "cell_type": "code",
   "execution_count": 5,
   "metadata": {},
   "outputs": [
    {
     "name": "stdout",
     "output_type": "stream",
     "text": [
      "E:\\Pandas_Course_Active\n"
     ]
    }
   ],
   "source": [
    "!cd"
   ]
  },
  {
   "cell_type": "code",
   "execution_count": 6,
   "metadata": {},
   "outputs": [],
   "source": [
    "x = 5"
   ]
  },
  {
   "cell_type": "code",
   "execution_count": 7,
   "metadata": {},
   "outputs": [],
   "source": [
    "x?"
   ]
  },
  {
   "cell_type": "code",
   "execution_count": 8,
   "metadata": {},
   "outputs": [],
   "source": [
    "print?"
   ]
  },
  {
   "cell_type": "code",
   "execution_count": 9,
   "metadata": {},
   "outputs": [
    {
     "name": "stdout",
     "output_type": "stream",
     "text": [
      "Help on built-in function print in module builtins:\n",
      "\n",
      "print(...)\n",
      "    print(value, ..., sep=' ', end='\\n', file=sys.stdout, flush=False)\n",
      "    \n",
      "    Prints the values to a stream, or to sys.stdout by default.\n",
      "    Optional keyword arguments:\n",
      "    file:  a file-like object (stream); defaults to the current sys.stdout.\n",
      "    sep:   string inserted between values, default a space.\n",
      "    end:   string appended after the last value, default a newline.\n",
      "    flush: whether to forcibly flush the stream.\n",
      "\n"
     ]
    }
   ],
   "source": [
    "help(print)"
   ]
  },
  {
   "cell_type": "code",
   "execution_count": null,
   "metadata": {},
   "outputs": [],
   "source": []
  }
 ],
 "metadata": {
  "kernelspec": {
   "display_name": "Python 3",
   "language": "python",
   "name": "python3"
  },
  "language_info": {
   "codemirror_mode": {
    "name": "ipython",
    "version": 3
   },
   "file_extension": ".py",
   "mimetype": "text/x-python",
   "name": "python",
   "nbconvert_exporter": "python",
   "pygments_lexer": "ipython3",
   "version": "3.7.7"
  }
 },
 "nbformat": 4,
 "nbformat_minor": 2
}
